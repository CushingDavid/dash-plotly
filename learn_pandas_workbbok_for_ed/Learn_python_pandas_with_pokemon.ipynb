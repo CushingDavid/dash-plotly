{
 "cells": [
  {
   "attachments": {},
   "cell_type": "markdown",
   "metadata": {
    "_cell_guid": "1145bc61-b531-29b1-aa81-2be4fcecdecc",
    "_uuid": "dce605aa2b375f544cbf89a8ee4481f386399c0e"
   },
   "source": [
    "### POKEMON STATS - Using python to analyse Pokemon!!! "
   ]
  },
  {
   "attachments": {},
   "cell_type": "markdown",
   "metadata": {
    "_cell_guid": "2171fbb5-fa17-0b55-8d62-ba259a8d390b",
    "_uuid": "452f31bcca4a3ed04b43a0b4f25657c3006da955"
   },
   "source": [
    "Hello Ed - this is a Jupyter Notebook - the best way to use and learn python.   \n",
    "It's super cool - because you can just run things one chunk at a time   \n",
    "And not worry about making mistakes.     \n"
   ]
  },
  {
   "attachments": {},
   "cell_type": "markdown",
   "metadata": {},
   "source": [
    "The first thing about notebooks is that they have 2 different types of cell (these box thingies).....    \n",
    "* The first one is called Markdown - where you can just write whatever you want - like instructions.    \n",
    "* The second one is Code - where you can run python code     "
   ]
  },
  {
   "attachments": {},
   "cell_type": "markdown",
   "metadata": {},
   "source": [
    "The code boxes should be run in order - but pressing the execute triangle to the left of the box.    "
   ]
  },
  {
   "attachments": {},
   "cell_type": "markdown",
   "metadata": {},
   "source": [
    "Ok - first thing you need to do is make sure the Pokemon file is in the same directory as this notebook - like in your 'My Documents' directory. "
   ]
  },
  {
   "attachments": {},
   "cell_type": "markdown",
   "metadata": {},
   "source": [
    "Then you need to install the correct libraries to allow you to run this code correctly........ "
   ]
  },
  {
   "cell_type": "code",
   "execution_count": null,
   "metadata": {},
   "outputs": [],
   "source": [
    "### Remember any line with '#' at the start is just a comment - not real code... And the test should turn green \n",
    "# Next run this box by clicking the execute cell 'triangle' \n",
    "# These commands installs new packages (a bit like DLC for games) onto Python  \n",
    "! pip install pandas        \n",
    "! pip install numpy\n",
    "! pip install matplotlib\n",
    "! pip install seaborn\n",
    "! pip install pokemon"
   ]
  },
  {
   "cell_type": "markdown",
   "metadata": {
    "_cell_guid": "00e2274b-4cc4-16b5-bf73-513eb5900f88",
    "_uuid": "550ad8c711fb55a073bee62cb09cac16f0264602"
   },
   "source": [
    "### Let's get started with some Basic Analysis"
   ]
  },
  {
   "attachments": {},
   "cell_type": "markdown",
   "metadata": {},
   "source": [
    "The first thing here is to import the stuff you've just downloaded into your notewbook: "
   ]
  },
  {
   "cell_type": "code",
   "execution_count": 1,
   "metadata": {
    "_cell_guid": "010be3c4-94a5-a9bf-f070-42b554edc3e5",
    "_execution_state": "idle",
    "_uuid": "150f1675b8296e2111b4c745d502e38f9a3d96fe",
    "collapsed": true
   },
   "outputs": [],
   "source": [
    "import pandas as pd   #importing all the important packages\n",
    "import numpy as np\n",
    "import matplotlib.pyplot as plt\n",
    "import seaborn as sns\n",
    "plt.style.use('fivethirtyeight')"
   ]
  },
  {
   "attachments": {},
   "cell_type": "markdown",
   "metadata": {},
   "source": [
    "Next - you're going to read the Pokemon.csv file into memory.    \n",
    "You're going to store it in something called a dataframe - a huge grid of stuff - in this case a huge grid of pokemon information........      \n",
    "Your dataframe is going to be called df .....  because why not        \n",
    "The command df.head(10) shows you the first 10 rows of the grid that you've just made - and the kind of information that's in there ......"
   ]
  },
  {
   "cell_type": "code",
   "execution_count": null,
   "metadata": {
    "_cell_guid": "4ec1b2f0-31b5-eabd-f4f9-b4ef7f3c6f71",
    "_execution_state": "idle",
    "_uuid": "c9f5917f04af4aed6221733a4dc4393089be2d35"
   },
   "outputs": [],
   "source": [
    "df =  pd.read_csv('../input/Pokemon.csv')  #read the csv file and save it into a variable\n",
    "df.head(n=10)                    #print the first 10 rows of the table"
   ]
  },
  {
   "attachments": {},
   "cell_type": "markdown",
   "metadata": {},
   "source": [
    "This next cell changes the column headers - puts them in capitals - and removes balnk spaces. "
   ]
  },
  {
   "cell_type": "code",
   "execution_count": null,
   "metadata": {
    "_cell_guid": "4e640a24-3799-dca1-358c-2be698817410",
    "_execution_state": "idle",
    "_uuid": "6f77c73683b65c50fa12b2ed47431ed6025c8978"
   },
   "outputs": [],
   "source": [
    "df.columns = df.columns.str.upper().str.replace('_', '') #change into upper case\n",
    "df.head()"
   ]
  },
  {
   "attachments": {},
   "cell_type": "markdown",
   "metadata": {},
   "source": [
    "Next - you're going to see how to reference a column     \n",
    "df['LEGENDARY'] is the Legendary column of df     \n",
    "Here you're showing the first 5 rows where the legendary is true .....    \n",
    "Change to head(10) if you want to see more   "
   ]
  },
  {
   "cell_type": "code",
   "execution_count": null,
   "metadata": {
    "_cell_guid": "4c4b9328-6abc-cf96-2bf6-f1b2c434fe47",
    "_execution_state": "idle",
    "_uuid": "f2346cfb66e9307ce5e74b4d7739baf07f75e625"
   },
   "outputs": [],
   "source": [
    "df[df['LEGENDARY']==True].head(5)  #Showing the legendary pokemons"
   ]
  },
  {
   "attachments": {},
   "cell_type": "markdown",
   "metadata": {},
   "source": [
    "Next you're going to change the Index - in other words how python looks up your rows   \n",
    "It's going to change the index to NAME   "
   ]
  },
  {
   "cell_type": "code",
   "execution_count": 5,
   "metadata": {
    "_cell_guid": "bc8aca65-7414-9359-8164-5c5fccffad06",
    "_execution_state": "idle",
    "_uuid": "e4d8097086262e7d1ae2c84b0d2b7eb605301859",
    "collapsed": true
   },
   "outputs": [],
   "source": [
    "df = df.set_index('NAME') #change and set the index to the name attribute"
   ]
  },
  {
   "cell_type": "markdown",
   "metadata": {
    "_cell_guid": "800cb3ee-820e-4d39-25ae-cfabb8995293",
    "_uuid": "b5ec3055f60858612220618d2cb023647d4e4e9e"
   },
   "source": [
    "### CLEANING THE DATAFRAME"
   ]
  },
  {
   "attachments": {},
   "cell_type": "markdown",
   "metadata": {},
   "source": [
    "The thing that's really annoying about datasets you get on the internet is that they are full of stuff you don't want....     \n",
    "So here we'll tidy it up a little bit    "
   ]
  },
  {
   "cell_type": "code",
   "execution_count": null,
   "metadata": {
    "_cell_guid": "ca6c5c4d-8d24-5c6c-3487-ea3efc73e5eb",
    "_execution_state": "idle",
    "_uuid": "2fbc5c9660e88ba4fced5430931be6b0ff89a3e8"
   },
   "outputs": [],
   "source": [
    "## The index of Mega Pokemons contained extra and unneeded text. Removed all the text before \"Mega\"  \n",
    "df.index = df.index.str.replace(\".*(?=Mega)\", \"\")\n",
    "df.head(10)"
   ]
  },
  {
   "attachments": {},
   "cell_type": "markdown",
   "metadata": {},
   "source": [
    "Next we'll drop the columns with #"
   ]
  },
  {
   "cell_type": "code",
   "execution_count": 7,
   "metadata": {
    "_cell_guid": "b13528ee-df4a-3af1-2fa6-64f9b7aa93dd",
    "_execution_state": "idle",
    "_uuid": "4602bb2ad0462616376d22b4327bf38975ef59d1",
    "collapsed": true
   },
   "outputs": [],
   "source": [
    "df=df.drop(['#'],axis=1) #drop the columns with axis=1;axis=0 is for rows"
   ]
  },
  {
   "attachments": {},
   "cell_type": "markdown",
   "metadata": {},
   "source": [
    "The dataframe has lots of things that you can use to analyse it    \n",
    "All you have to do is add with a dt after the df     \n",
    "So for example df.columns lists all the columnn names     \n",
    "And df.shape will give the number of rows and columns of the dataframe       "
   ]
  },
  {
   "cell_type": "code",
   "execution_count": null,
   "metadata": {
    "_cell_guid": "8d940ad9-80da-8693-8c79-39c7fe7d3b7f",
    "_execution_state": "idle",
    "_uuid": "4cb6546ea0c85dd313a789bb1edeea8ecfcac128"
   },
   "outputs": [],
   "source": [
    "print('The columns of the dataset are: ',df.columns) #show the dataframe columns\n",
    "print('The shape of the dataframe is: ',df.shape)    #shape of the dataframe"
   ]
  },
  {
   "attachments": {},
   "cell_type": "markdown",
   "metadata": {},
   "source": [
    "Another funcky thing is that some of the columns have dodgy values in them - called NaNs    \n",
    "Which basically stands for 'Not A Number'     \n",
    "So here - we find the NaNs in Type 2 and use the value in Type 1 "
   ]
  },
  {
   "cell_type": "code",
   "execution_count": 9,
   "metadata": {
    "_cell_guid": "fe8e93ee-1ee9-a68e-4e03-cb087f91728a",
    "_execution_state": "idle",
    "_uuid": "d9d76ad2dfe9cde6320b06097aa4e21ac9616d1e",
    "collapsed": true
   },
   "outputs": [],
   "source": [
    "#some values in TYPE2 are empty and thus they have to be filled or deleted\n",
    "df['TYPE 2'].fillna(df['TYPE 1'], inplace=True) #fill NaN values in Type2 with corresponding values of Type"
   ]
  },
  {
   "attachments": {},
   "cell_type": "markdown",
   "metadata": {},
   "source": [
    "Next we can see how to look at individual information...   \n",
    "We can use the pokemon index we just made (using the pokemon names) to view the rows for that Pokemon    \n",
    "We do that using df.loc    \n",
    "df.iloc does the same thing - BUT is uses the row number rather than the index name    \n",
    " "
   ]
  },
  {
   "cell_type": "code",
   "execution_count": null,
   "metadata": {
    "_cell_guid": "9bd3da25-ed6e-fbf4-9c48-a78d18ef6ff8",
    "_execution_state": "idle",
    "_uuid": "21e3ce0a91e62331e0f1da668e392cc566bf17b6"
   },
   "outputs": [],
   "source": [
    "print(df.loc['Bulbasaur'])      #retrieves complete row data from index with value Bulbasaur\n",
    "print(df.iloc[0])               #retrieves complete row date from index 0 ; integer version of loc\n",
    "print(df.ix[0])                 #similar to iloc\n",
    "print(df.ix['Kakuna'])          #similar to loc\n",
    "#loc works on labels in the index.\n",
    "#iloc works on the positions in the index (so it only takes integers).\n",
    "#ix usually tries to behave like loc but falls back to behaving like iloc if the label is not in the index.\n",
    "#inoreder to find details about any pokemon, just specify its name"
   ]
  },
  {
   "attachments": {},
   "cell_type": "markdown",
   "metadata": {},
   "source": [
    "Next we can look at stuff that links together ....    \n",
    "So here the | is an OR    \n",
    "Therefore this statement is looking for anything in the df where    \n",
    "the TYPE 1 is Fire OR Dragon    \n",
    "AND    \n",
    "the TYPE 2 is Dragon OR Fire   "
   ]
  },
  {
   "cell_type": "code",
   "execution_count": null,
   "metadata": {
    "_cell_guid": "46ba887c-17a1-c394-151a-edba8c150aab",
    "_execution_state": "idle",
    "_uuid": "79ef3c8caeef2e277e0ecc7d2a94a7b3a83df065"
   },
   "outputs": [],
   "source": [
    "#filtering pokemons using logical operators\n",
    "df[((df['TYPE 1']=='Fire') | (df['TYPE 1']=='Dragon')) & ((df['TYPE 2']=='Dragon') | (df['TYPE 2']=='Fire'))].head(3)"
   ]
  },
  {
   "attachments": {},
   "cell_type": "markdown",
   "metadata": {},
   "source": [
    "Next we are going to print out the Pokemon with the highest HP     \n",
    "Using df.argmax    "
   ]
  },
  {
   "cell_type": "code",
   "execution_count": null,
   "metadata": {
    "_cell_guid": "83a43e2c-85de-3d1d-148f-1604937e2482",
    "_execution_state": "idle",
    "_uuid": "7404314b9aef5b5b7d91dd9c8e7408a9943ab3b9"
   },
   "outputs": [],
   "source": [
    "print(\"MAx HP:\",df['HP'].argmax())                  #returns the pokemon with highest HP\n",
    "print(\"Max DEFENCE:\",(df['DEFENSE']).idxmax())      #similar to argmax()"
   ]
  },
  {
   "attachments": {},
   "cell_type": "markdown",
   "metadata": {},
   "source": [
    "Next - we can sort any column in the df using df.sort_values      \n",
    "By using ascending=False - we put the largest value at the top    \n",
    "Again, by adding on .head(10) we only show the top 10 of the sort    \n"
   ]
  },
  {
   "cell_type": "code",
   "execution_count": null,
   "metadata": {
    "_cell_guid": "e2aba8b4-3fb3-783e-26d4-4bff526314d4",
    "_execution_state": "idle",
    "_uuid": "b66c0c6e9137c1d9448c47b336bddf56a8b83923"
   },
   "outputs": [],
   "source": [
    "df.sort_values('TOTAL',ascending=False).head(10)  #this arranges the pokemons in the descendng order of the Totals.\n",
    "#sort_values() is used for sorting and ascending=False is making it in descending order"
   ]
  },
  {
   "attachments": {},
   "cell_type": "markdown",
   "metadata": {},
   "source": [
    "df.unique - does exactly what it says on the tin - it lists all the individual values from a column    \n",
    "But only one of each      "
   ]
  },
  {
   "cell_type": "code",
   "execution_count": null,
   "metadata": {
    "_cell_guid": "36ae1ade-4306-23e2-b04c-f0fec51dd6e0",
    "_execution_state": "idle",
    "_uuid": "29e8ab7c5f9d0ef8bb5b84e936f6dae972105611"
   },
   "outputs": [],
   "source": [
    "print('The unique  pokemon types are',df['TYPE 1'].unique()) #shows all the unique types in column\n",
    "print('The number of unique types are',df['TYPE 1'].nunique()) #shows count of unique values "
   ]
  },
  {
   "attachments": {},
   "cell_type": "markdown",
   "metadata": {},
   "source": [
    "df.value_counts will count all the different types of something in a column   \n",
    "df.sum adds up everything in a column.   \n",
    "In this case - it's adding up all the 'Bugs'  "
   ]
  },
  {
   "cell_type": "code",
   "execution_count": null,
   "metadata": {
    "_cell_guid": "4629d0e4-3b65-5a7a-1da3-dc8dc99cb0c4",
    "_execution_state": "idle",
    "_uuid": "748616877aece1384531eeb2eb2785f6dbe418bc"
   },
   "outputs": [],
   "source": [
    "print(df['TYPE 1'].value_counts(), '\\n' ,df['TYPE 2'].value_counts())       #count different types of pokemons\n",
    "df.groupby(['TYPE 1']).size()                                               #same as above\n",
    "(df['TYPE 1']=='Bug').sum()                                                 #counts for a single value"
   ]
  },
  {
   "attachments": {},
   "cell_type": "markdown",
   "metadata": {},
   "source": [
    "Last of all - df.describe gives a statistical summary     \n",
    "So next time you need to do any statistics - ask to do it on python, as it takes milliseconds :)     "
   ]
  },
  {
   "cell_type": "code",
   "execution_count": null,
   "metadata": {
    "_cell_guid": "9708cd2d-0ed5-9ea6-0e75-689a965b4a1a",
    "_execution_state": "idle",
    "_uuid": "3861868caacba526cccc69d87735d1a0335a2c74"
   },
   "outputs": [],
   "source": [
    "df_summary = df.describe() #summary of the pokemon dataframe\n",
    "df_summary"
   ]
  },
  {
   "cell_type": "markdown",
   "metadata": {
    "_cell_guid": "d0a269f5-8268-9744-43c5-418a5f5abb8a",
    "_uuid": "c8d4065b933a95f41c75a6013a77ccd17c407a20"
   },
   "source": [
    "## VISUALISATIONS"
   ]
  },
  {
   "attachments": {},
   "cell_type": "markdown",
   "metadata": {
    "_cell_guid": "a7425777-49f7-5663-4020-db16233e1d10",
    "_uuid": "16b038dcc6a9689234933bf4118ac129d8e6d3a6"
   },
   "source": [
    "##### The attack distribution for the pokemons across all the genarations: \n",
    "So this is a distribution plot - basically showing how many pokemon have got what strength of attack .....     \n",
    "Example - only 5 or 6 pokemon have got an attack between 0-25     \n"
   ]
  },
  {
   "attachments": {},
   "cell_type": "markdown",
   "metadata": {},
   "source": [
    "Anything that has plt.  at the start of it is using the matplotlib library    \n",
    "This is a graphical library that can plot any kind of graph you can think of ......    \n",
    "In a notebook, all the information you put in one cell, will go into the plot    \n",
    "So titles, axes, colours can all be defined inside this one cell for the plot      "
   ]
  },
  {
   "cell_type": "code",
   "execution_count": null,
   "metadata": {
    "_cell_guid": "ce4576f2-f448-7502-e10b-c13bdae67ea1",
    "_execution_state": "idle",
    "_uuid": "c43b8dc96f89fd346f3a65d0a3319c23f016322f"
   },
   "outputs": [],
   "source": [
    "bins=range(0,200,20)                    #they act as bin containers - for the differen ranges\n",
    "plt.hist(df[\"ATTACK\"],bins,histtype=\"bar\",rwidth=1.2,color='#0ff0ff') #hist() is used to plot a histogram\n",
    "plt.xlabel('Attack')                    #set the xlabel name\n",
    "plt.ylabel('Count')                     #set the ylabel name\n",
    "plt.plot()\n",
    "### You can use df.mean to calculate the average down any column \n",
    "plt.axvline(df['ATTACK'].mean(),linestyle='dashed',color='red') #draw a vertical line showing the average Attack value\n",
    "plt.show()"
   ]
  },
  {
   "cell_type": "markdown",
   "metadata": {
    "_cell_guid": "899ff7e2-28ae-7ea4-9585-0bb5488abfe4",
    "_uuid": "7eb2ef02e102697b8cd32e39a24a2746a089c6bd"
   },
   "source": [
    "Above is a Histogram showing the distribution of attacks for the Pokemons. The average value is between 75-77"
   ]
  },
  {
   "cell_type": "markdown",
   "metadata": {
    "_cell_guid": "dc856ce3-7edd-10ac-b4ab-4254d72227da",
    "_uuid": "3f5e77291a21466dc1490ba3a649258b04520192"
   },
   "source": [
    "### Fire Vs Water"
   ]
  },
  {
   "attachments": {},
   "cell_type": "markdown",
   "metadata": {},
   "source": [
    "Next is a scatter plot!!!     \n",
    "This is actually 2 scatter plots - one for Fire types and one for Water types  \n",
    "You'll notice that it only plots the first 50 of each - you can easily change that .....     \n",
    " \n"
   ]
  },
  {
   "cell_type": "code",
   "execution_count": null,
   "metadata": {
    "_cell_guid": "63ac752b-4c34-0583-a0fe-876fd556c099",
    "_execution_state": "idle",
    "_uuid": "ad3265025edfeed45726a4b971ecfff864850db9"
   },
   "outputs": [],
   "source": [
    "fire=df[(df['TYPE 1']=='Fire') | ((df['TYPE 2'])==\"Fire\")]              #fire contains all fire pokemons\n",
    "water=df[(df['TYPE 1']=='Water') | ((df['TYPE 2'])==\"Water\")]           #all water pokemins into the same variable\n",
    "plt.scatter(fire.ATTACK.head(50),fire.DEFENSE.head(50),color='R',label='Fire',marker=\"*\",s=50)      #scatter plot for Fire\n",
    "plt.scatter(water.ATTACK.head(50),water.DEFENSE.head(50),color='B',label=\"Water\",s=25)              #scatter plot for Water\n",
    "plt.xlabel(\"Attack\")\n",
    "plt.ylabel(\"DEFENCE\")\n",
    "plt.legend()\n",
    "plt.plot()\n",
    "fig=plt.gcf()                   #get the current figure using .gcf()\n",
    "fig.set_size_inches(12,6)       #set the size for the figure\n",
    "plt.show()"
   ]
  },
  {
   "attachments": {},
   "cell_type": "markdown",
   "metadata": {
    "_cell_guid": "328b75ef-b97c-08af-15bf-bcbfdc8eb51c",
    "_uuid": "7e8520d2636ea2e33b4f436684fb332ab023d3c3"
   },
   "source": [
    "This shows that, generally, fire type pokemons have a better attack than water type pokemons but have a lower defence than water type."
   ]
  },
  {
   "cell_type": "markdown",
   "metadata": {
    "_cell_guid": "87112f94-f785-949a-b6ae-48427d3bc7f8",
    "_uuid": "3568cf3e2a2e51ed20d4034ab211e411890b8e33"
   },
   "source": [
    "### Strongest Pokemons By Types"
   ]
  },
  {
   "attachments": {},
   "cell_type": "markdown",
   "metadata": {},
   "source": [
    "Here - we use df.sort to sort by the 'TOTAL' column      \n",
    "This is put into a whole new dataframe called 'strong'    \n",
    "Then - all the duplicates from the 'TYPE 1' column are dropped (or removed)"
   ]
  },
  {
   "cell_type": "code",
   "execution_count": null,
   "metadata": {
    "_cell_guid": "8a31869c-82f3-4bf6-bcbe-b33cf062c1de",
    "_execution_state": "idle",
    "_uuid": "f15ba9c7751a8fe205b38fe6124417d7bf6edf39"
   },
   "outputs": [],
   "source": [
    "strong=df.sort_values(by='TOTAL', ascending=False) #sorting the rows in descending order\n",
    "strong.drop_duplicates(subset=['TYPE 1'],keep='first') #since the rows are now sorted in descending oredr\n",
    "#thus we take the first row for every new type of pokemon i.e the table will check TYPE 1 of every pokemon\n",
    "#The first pokemon of that type is the strongest for that type\n",
    "#so we just keep the first row"
   ]
  },
  {
   "cell_type": "markdown",
   "metadata": {
    "_cell_guid": "41b8a967-e007-22e3-c9cb-edabf696cf12",
    "_uuid": "f78cf0727e3d8c7e0bbd0a22599d25060685e7ba"
   },
   "source": [
    "## Distribution of various pokemon types"
   ]
  },
  {
   "attachments": {},
   "cell_type": "markdown",
   "metadata": {},
   "source": [
    "Time for a pie chart!!!     \n",
    "The cheat here is that the 'sizes' are manually calculated.         \n",
    "Explode pushes out a wedge a little (in this case by '0.1')    \n",
    "You can change the colours if you want - there are soooo many different colours to choose from     "
   ]
  },
  {
   "cell_type": "code",
   "execution_count": null,
   "metadata": {
    "_cell_guid": "efca64c2-c3be-d8a6-279e-7c2d25230f08",
    "_execution_state": "idle",
    "_uuid": "f6f6098b7a5140e56acae97fbe276bddc169dcdf"
   },
   "outputs": [],
   "source": [
    "labels = 'Water', 'Normal', 'Grass', 'Bug', 'Psychic', 'Fire', 'Electric', 'Rock', 'Other'\n",
    "sizes = [112, 98, 70, 69, 57, 52, 44, 44, 175]\n",
    "colors = ['Y', 'B', '#00ff00', 'C', 'R', 'G', 'silver', 'white', 'M']\n",
    "explode = (0, 0, 0.1, 0, 0, 0, 0, 0, 0)  # only \"explode\" the 3rd slice \n",
    "plt.pie(sizes, explode=explode, labels=labels, colors=colors,\n",
    "        autopct='%1.1f%%', shadow=True, startangle=90)\n",
    "plt.axis('equal')\n",
    "plt.title(\"Percentage of Different Types of Pokemon\")\n",
    "plt.plot()\n",
    "fig=plt.gcf()\n",
    "fig.set_size_inches(7,7)\n",
    "plt.show()"
   ]
  },
  {
   "cell_type": "markdown",
   "metadata": {
    "_cell_guid": "5919c99e-cd24-1669-8c7c-e1a926238d6f",
    "_uuid": "5297d16a1f56dacc7e08558b392b8536e4d56b18"
   },
   "source": [
    "## All stats analysis of the pokemons"
   ]
  },
  {
   "attachments": {},
   "cell_type": "markdown",
   "metadata": {},
   "source": [
    "Ok - some charts that you've probably not used before ....    \n",
    "This one is a boxplot - it shows the average value but also the range of values      "
   ]
  },
  {
   "cell_type": "code",
   "execution_count": null,
   "metadata": {
    "_cell_guid": "2074810a-6b24-5a63-69fb-160555462cea",
    "_execution_state": "idle",
    "_uuid": "e6281c63951310b2c34a3e2358a696bd2cdf824b"
   },
   "outputs": [],
   "source": [
    "df2=df.drop(['GENERATION','TOTAL'],axis=1)\n",
    "sns.boxplot(data=df2)\n",
    "plt.ylim(0,300)  #change the scale of y axix\n",
    "plt.show()"
   ]
  },
  {
   "attachments": {},
   "cell_type": "markdown",
   "metadata": {},
   "source": [
    "This is another one showing attack strength for different pokemon types ........ "
   ]
  },
  {
   "cell_type": "code",
   "execution_count": null,
   "metadata": {
    "_cell_guid": "f3c33d37-48f8-d147-2fed-cd62fe2dd878",
    "_execution_state": "idle",
    "_uuid": "89de88a99eb416ccdafdd18a6384421066105a6b"
   },
   "outputs": [],
   "source": [
    "plt.subplots(figsize = (15,5))\n",
    "plt.title('Attack by Type1')\n",
    "sns.boxplot(x = \"TYPE 1\", y = \"ATTACK\",data = df)\n",
    "plt.ylim(0,200)\n",
    "plt.show()"
   ]
  },
  {
   "attachments": {},
   "cell_type": "markdown",
   "metadata": {
    "_cell_guid": "e232cdda-ad32-9028-c1e6-5a13bb4605ce",
    "_uuid": "e4b4e1665f191cb0b8fa6e19b0ff603ae21f7d2c"
   },
   "source": [
    "Another box plot - this one showing the Type 2 attack ...   \n"
   ]
  },
  {
   "cell_type": "code",
   "execution_count": null,
   "metadata": {
    "_cell_guid": "52544e12-4c12-ca2b-2648-00045935fc63",
    "_execution_state": "idle",
    "_uuid": "e95c7cab7e4ef8ad5e9931454032605782145319"
   },
   "outputs": [],
   "source": [
    "plt.subplots(figsize = (15,5))\n",
    "plt.title('Attack by Type2')\n",
    "sns.boxplot(x = \"TYPE 2\", y = \"ATTACK\",data=df)\n",
    "plt.show()"
   ]
  },
  {
   "attachments": {},
   "cell_type": "markdown",
   "metadata": {},
   "source": [
    "So - what do these boxplots tell you about the Attacks?????? "
   ]
  },
  {
   "attachments": {},
   "cell_type": "markdown",
   "metadata": {},
   "source": [
    "Another boxplot - this one for defence    "
   ]
  },
  {
   "cell_type": "code",
   "execution_count": null,
   "metadata": {
    "_cell_guid": "6a20fee0-68b9-1022-6441-a3c9a879dc8e",
    "_execution_state": "idle",
    "_uuid": "29532b548f194f6f6c25079b63bcb107f9cf4f9c"
   },
   "outputs": [],
   "source": [
    "plt.subplots(figsize = (15,5))\n",
    "plt.title('Defence by Type')\n",
    "sns.boxplot(x = \"TYPE 1\", y = \"DEFENSE\",data = df)\n",
    "plt.show()"
   ]
  },
  {
   "attachments": {},
   "cell_type": "markdown",
   "metadata": {
    "_cell_guid": "48d68b63-1367-cd2d-974e-8e671d9fceb7",
    "_uuid": "140015901464c586b7c1e295d411c78974020fd9"
   },
   "source": [
    "This shows that steel type pokemons have the highest defence but normal type pokemons have the lowest defence - you see????   "
   ]
  },
  {
   "cell_type": "markdown",
   "metadata": {
    "_cell_guid": "e6b6e04c-624f-e346-cb7b-8cb3ea57a21a",
    "_uuid": "28b0274f728cc4e9381ef3e7d3b6ac3538c7089b"
   },
   "source": [
    "### Now lets see the same stats in violinplot"
   ]
  },
  {
   "attachments": {},
   "cell_type": "markdown",
   "metadata": {},
   "source": [
    "Violin Plots are very similar to boxplots - but they show you how the data varies from the mean.    \n",
    "This is called the distribution - and it shows how 'bunched up' or 'spread out' all the values are ....     \n",
    "So a long thin violin means that all the data is spread out over a big range of values     \n",
    "Short and fat ones mean that the data is bunched together - usually close to the mean or median value.      "
   ]
  },
  {
   "cell_type": "code",
   "execution_count": null,
   "metadata": {
    "_cell_guid": "0b0f687c-4d60-5088-9944-b61c92bd7ffd",
    "_execution_state": "idle",
    "_uuid": "02c1215d81bb7fff44c1704e9f6c1b4a6696bf34"
   },
   "outputs": [],
   "source": [
    "plt.subplots(figsize = (20,10))\n",
    "plt.title('Attack by Type1')\n",
    "sns.violinplot(x = \"TYPE 1\", y = \"ATTACK\",data = df)\n",
    "plt.ylim(0,200)\n",
    "plt.show()"
   ]
  },
  {
   "attachments": {},
   "cell_type": "markdown",
   "metadata": {
    "_cell_guid": "edf815f4-1196-9731-0318-2da772bee894",
    "_uuid": "b08a1be87ede02c96e1f56c8bf91b63e699bb12b"
   },
   "source": [
    "For example - if you make the next plot - the flying Type has a bulge, or fat, bit around a defence of 80.    \n",
    "This menas that lots of Flying types have a defence around that value.    \n",
    "While the STEAL types have a huge range of different defences      "
   ]
  },
  {
   "cell_type": "code",
   "execution_count": null,
   "metadata": {
    "_cell_guid": "e22b4922-d21d-261e-fce3-415a6a47a6ba",
    "_execution_state": "idle",
    "_uuid": "7035fcc81ea4242ae5947a8fbfab42f567466b7a"
   },
   "outputs": [],
   "source": [
    "plt.subplots(figsize = (20,10))\n",
    "plt.title('Defence by Type1')\n",
    "sns.violinplot(x = \"TYPE 1\", y = \"DEFENSE\",data = df)\n",
    "plt.ylim(0,200)\n",
    "plt.show()"
   ]
  },
  {
   "attachments": {},
   "cell_type": "markdown",
   "metadata": {},
   "source": [
    "You can plot violin plots for any range of values       \n",
    "Here you can compare the different Generations         "
   ]
  },
  {
   "cell_type": "code",
   "execution_count": null,
   "metadata": {
    "_cell_guid": "64f63c4d-14c4-a6a1-1112-da9f55f04835",
    "_execution_state": "idle",
    "_uuid": "0aaa880c8d77d03364e73a196445fdb4b0192421"
   },
   "outputs": [],
   "source": [
    "plt.subplots(figsize = (15,5))\n",
    "plt.title('Strongest Genaration')\n",
    "sns.violinplot(x = \"GENERATION\", y = \"TOTAL\",data = df)\n",
    "plt.show()"
   ]
  },
  {
   "cell_type": "markdown",
   "metadata": {
    "_cell_guid": "f593280b-a061-87a1-e5cf-e47e46f7904a",
    "_uuid": "eb57771078412d8c418aae553e9f35bb6a542964"
   },
   "source": [
    "This shows that generation 3  has the better pokemons"
   ]
  },
  {
   "cell_type": "markdown",
   "metadata": {
    "_cell_guid": "bbf63293-f500-4d4b-8b3a-ead2328cecae",
    "_execution_state": "idle",
    "_uuid": "61ead2f49e343c376e010b05d07d0db2202095e1"
   },
   "source": [
    "### Strong Pokemons By Type"
   ]
  },
  {
   "attachments": {},
   "cell_type": "markdown",
   "metadata": {},
   "source": [
    "Aha - a swarm-plot     \n",
    "This puts dots for every different TOTAL value - grouped by TYPE1     \n",
    "In a funky style - you can highlight the LEGENDARY in a different colour or 'hue'        \n",
    "And put the average value for all the TOTAL values accross the plot is a lovely dotted red line!!          "
   ]
  },
  {
   "cell_type": "code",
   "execution_count": null,
   "metadata": {
    "_cell_guid": "f1107719-05e6-4638-bfaa-f2dab350fff5",
    "_execution_state": "idle",
    "_uuid": "5147c936f68b22ff37439ab2074bf7b6dccda57f"
   },
   "outputs": [],
   "source": [
    "plt.figure(figsize=(12,6))\n",
    "top_types=df['TYPE 1'].value_counts()[:10] #take the top 10 Types\n",
    "df1=df[df['TYPE 1'].isin(top_types.index)] #take the pokemons of the type with highest numbers, top 10\n",
    "sns.swarmplot(x='TYPE 1',y='TOTAL',data=df1,hue='LEGENDARY') # this plot shows the points belonging to individual pokemons\n",
    "# It is distributed by Type\n",
    "plt.axhline(df1['TOTAL'].mean(),color='red',linestyle='dashed')\n",
    "plt.show()"
   ]
  },
  {
   "cell_type": "markdown",
   "metadata": {
    "_cell_guid": "a8a93915-b076-4226-b6ff-aa078f925a8e",
    "_execution_state": "idle",
    "_uuid": "38b0f6ce195ca64e70b15b64e8759256d0a27b1b"
   },
   "source": [
    " Legendary Pokemons are mostly taking the top spots in the Strongest Pokemons\n"
   ]
  },
  {
   "cell_type": "markdown",
   "metadata": {
    "_cell_guid": "fb001d3e-1a88-bb92-fab8-363eda8de8c3",
    "_uuid": "146685989e5b7f93ae03d3c71bf1347ccbd34ccb"
   },
   "source": [
    "### Finding any Correlation between the attributes"
   ]
  },
  {
   "attachments": {},
   "cell_type": "markdown",
   "metadata": {},
   "source": [
    "Heatmaps are well cool     \n",
    "They tell you how strongly different variables (such as HP, ATTACK etc ) are related to each other ......     \n",
    "The higher the number the higher the relationship ...    \n",
    "So high values of SP. ATK usually mean high values of TOTAL     "
   ]
  },
  {
   "cell_type": "code",
   "execution_count": null,
   "metadata": {
    "_cell_guid": "234a95fc-afa8-233a-603b-7c90bad79b99",
    "_execution_state": "idle",
    "_uuid": "de3d9fd24756bf79abf5b75872d48c29666efe2b"
   },
   "outputs": [],
   "source": [
    "plt.figure(figsize=(10,6)) #manage the size of the plot\n",
    "sns.heatmap(df.corr(),annot=True) #df.corr() makes a correlation matrix and sns.heatmap is used to show the correlations heatmap\n",
    "plt.show()"
   ]
  },
  {
   "cell_type": "markdown",
   "metadata": {
    "_cell_guid": "7148a0e3-c841-c9bb-02de-283b2e18290d",
    "_uuid": "0306b68aab41dcff27b60f4d5e1c5f03bb3651e1"
   },
   "source": [
    "### Number of Pokemons by Type And Generation"
   ]
  },
  {
   "attachments": {},
   "cell_type": "markdown",
   "metadata": {},
   "source": [
    "Next - lets draw some line plots     \n",
    "This shows which type you get for each Generation .....     \n",
    "Notice the funky colour names   \n",
    "This is called HEX CODE  \n",
    "#FFA500 is actually just ORANGE1 - and if you typed ORANGE1 in the '' then you would get the same colour    \n",
    "If you put in HEX CODE colour slider into Google - it has a built in slider for telling you what the HEX CODE is for different colours         "
   ]
  },
  {
   "cell_type": "markdown",
   "metadata": {
    "_cell_guid": "d4b6069b-a593-fcf6-58a2-5713907afa23",
    "_uuid": "fe15f1dc6f60309e878e3990501065e7f337135b"
   },
   "source": [
    "### Type 1"
   ]
  },
  {
   "cell_type": "code",
   "execution_count": null,
   "metadata": {
    "_cell_guid": "ce70c940-3e64-c1ee-0e37-58f08b66ccaf",
    "_execution_state": "idle",
    "_uuid": "49dd76476d02c9981fd3f8190590e4f30f5602f8"
   },
   "outputs": [],
   "source": [
    "a=df.groupby(['GENERATION','TYPE 1']).count().reset_index()\n",
    "a=a[['GENERATION','TYPE 1','TOTAL']]\n",
    "a=a.pivot('GENERATION','TYPE 1','TOTAL')\n",
    "a[['Water','Fire','Grass','Dragon','Normal','Rock','Flying','Electric']].plot(color=['b','r','g','#FFA500','brown','#6666ff','#001012','y'],marker='o')\n",
    "fig=plt.gcf()\n",
    "fig.set_size_inches(12,6)\n",
    "plt.show()"
   ]
  },
  {
   "cell_type": "markdown",
   "metadata": {
    "_cell_guid": "af01f495-9798-4f7b-7444-34d7c5e72c22",
    "_uuid": "6296616d4885e26a556fb1d082406dbe43aba84b"
   },
   "source": [
    "We can see that water pokemons had the highest numbers in the 1st Generation. However the number has decreased with passing generations. Similarly Grass type pokemons showed an increase in their numbers till generation 5."
   ]
  },
  {
   "attachments": {},
   "cell_type": "markdown",
   "metadata": {},
   "source": [
    "Let's do the same for TYPE 2 "
   ]
  },
  {
   "cell_type": "code",
   "execution_count": null,
   "metadata": {
    "_cell_guid": "c2e11472-9346-412f-a9ab-cd0296fff56a",
    "_execution_state": "idle",
    "_uuid": "c32f88ced273926893e8bb03933a99466df6fdd4"
   },
   "outputs": [],
   "source": [
    "a=df.groupby(['GENERATION','TYPE 2']).count().reset_index()\n",
    "a=a[['GENERATION','TYPE 2','TOTAL']]\n",
    "a=a.pivot('GENERATION','TYPE 2','TOTAL')\n",
    "a[['Water','Fire','Grass','Dragon','Normal','Rock','Flying','Electric']].plot(color=['b','r','g','#FFA500','brown','#6666ff','#001012','y'],marker='o')\n",
    "fig=plt.gcf()\n",
    "fig.set_size_inches(12,6)\n",
    "plt.show()"
   ]
  },
  {
   "cell_type": "markdown",
   "metadata": {
    "_cell_guid": "1712ab3d-535c-494b-837b-bed70c3ffe71",
    "_uuid": "b23557d9c32e4ef7a2da4e7ef893bd8a25eb83b2"
   },
   "source": [
    "This graph shows that the number of Type2 Grass Pokemons has been steadily increasing. The same is the case for the Dragon Type Pokemons. For other Types the trends are somewhat uneven."
   ]
  },
  {
   "attachments": {},
   "cell_type": "markdown",
   "metadata": {
    "_cell_guid": "de6b9d89-7b9a-5627-6716-abff65a39b70",
    "_uuid": "562c810cc4bdaa47111d7a140285bfc1583682d0"
   },
   "source": [
    "### And that's that!!!!! \n",
    "There are lots of different plots we've not covered - but this gives you a look at Matplotlib and python..... "
   ]
  }
 ],
 "metadata": {
  "_change_revision": 0,
  "_is_fork": false,
  "kernelspec": {
   "display_name": "Python 3",
   "language": "python",
   "name": "python3"
  },
  "language_info": {
   "codemirror_mode": {
    "name": "ipython",
    "version": 3
   },
   "file_extension": ".py",
   "mimetype": "text/x-python",
   "name": "python",
   "nbconvert_exporter": "python",
   "pygments_lexer": "ipython3",
   "version": "3.6.3"
  }
 },
 "nbformat": 4,
 "nbformat_minor": 1
}
